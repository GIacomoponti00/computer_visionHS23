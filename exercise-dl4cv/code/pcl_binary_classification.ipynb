{
 "cells": [
  {
   "cell_type": "markdown",
   "metadata": {},
   "source": [
    "# Point Cloud Binary Classification with PyTorch"
   ]
  },
  {
   "cell_type": "markdown",
   "metadata": {},
   "source": [
    "Make sure you are using the `dl4cv` conda environment."
   ]
  },
  {
   "cell_type": "markdown",
   "metadata": {},
   "source": [
    "## Dataset loading and visualization"
   ]
  },
  {
   "cell_type": "markdown",
   "metadata": {},
   "source": [
    "The input X contain 100 2D points, and y are their corresponding labels (0 or 1). The goal is to train a model that can classify every point to its correct label.\n"
   ]
  },
  {
   "cell_type": "code",
   "execution_count": 29,
   "metadata": {},
   "outputs": [
    {
     "data": {
      "image/png": "[encoded data removed]",
      "text/plain": [
       "<Figure size 640x480 with 1 Axes>"
      ]
     },
     "metadata": {},
     "output_type": "display_data"
    },
    {
     "data": {
      "text/plain": [
       "<Figure size 640x480 with 0 Axes>"
      ]
     },
     "metadata": {},
     "output_type": "display_data"
    }
   ],
   "source": [
    "import os\n",
    "os.environ[\"KMP_DUPLICATE_LIB_OK\"]=\"TRUE\"\n",
    "\n",
    "%matplotlib inline\n",
    "import matplotlib.pyplot as plt\n",
    "import numpy as np\n",
    "import torch\n",
    "import torch.nn as nn\n",
    "import torch.nn.functional as F\n",
    "import torch.optim as optim\n",
    "from torch.utils.data import Dataset\n",
    "from torch.utils.data import DataLoader\n",
    "from torch.optim import Adam\n",
    "\n",
    "dataset = np.load('data/2d_pcl_dataset.npz')\n",
    "X, y = dataset['X'], dataset['y']\n",
    "\n",
    "X0 = X[y==0] # 50 2D points have label 0\n",
    "X1 = X[y==1] # 50 2D points have label 1\n",
    "\n",
    "def plot(X0, X1, fit_param=None):\n",
    "    plt.scatter(X0[:,0], X0[:,1], color='red', label=0)\n",
    "    plt.scatter(X1[:,0], X1[:,1], color='blue', label=1)\n",
    "    \n",
    "    plt.xlim([-0.55, 0.55])\n",
    "    plt.ylim([-0.35, 0.25])\n",
    "    plt.legend()\n",
    "    plt.show()\n",
    "    plt.clf()\n",
    "\n",
    "plot(X0, X1)"
   ]
  },
  {
   "cell_type": "markdown",
   "metadata": {},
   "source": [
    "## Logistic Regression for the point cloud classification task\n"
   ]
  },
  {
   "cell_type": "markdown",
   "metadata": {},
   "source": [
    "Starting by filling in the `Simple2DDataset` class below. First, in the class constructore `__init__`, you will need to read the right `2d_pcl_dataset.npz` from disk.\n",
    "\n",
    "Second, in the `__getitem__`, you will need to take a single data point and its label based on its index `idx`"
   ]
  },
  {
   "cell_type": "code",
   "execution_count": 30,
   "metadata": {},
   "outputs": [],
   "source": [
    "class Simple2DDataset(Dataset):\n",
    "    def __init__(self):\n",
    "        super().__init__()\n",
    "        #########################################################################\n",
    "        # TODO: read data from disk using np.load.\n",
    "        # Data is located in the folder \"data\".\n",
    "        # Save samples and labels to class members self.X and self.y respectively.\n",
    "        # samples should be an Nx2 numpy array. Labels should be Nx1.\n",
    "        #########################################################################\n",
    "        dataset = np.load('data/2d_pcl_dataset.npz')\n",
    "        self.X = dataset['X']\n",
    "        self.y = dataset['y']\n",
    "     \n",
    "    def __len__(self):\n",
    "        # Returns the number of samples in the dataset.\n",
    "        return self.X.shape[0]\n",
    "    \n",
    "    def __getitem__(self, idx):\n",
    "        #########################################################################\n",
    "        # TODO: return the sample and label with index idx\n",
    "        #########################################################################\n",
    "        point = self.X[idx]\n",
    "        label = self.y[idx]\n",
    "        \n",
    "        # Convert to tensor.\n",
    "        return torch.from_numpy(point).float(), \\\n",
    "               torch.from_numpy(label[np.newaxis]).float()\n"
   ]
  },
  {
   "cell_type": "markdown",
   "metadata": {},
   "source": [
    "With the complete `Simple2DDataset`, we can create a PyTorch dataloader\n",
    "\n",
    "**NOTE**: if you encounter some unexpected errors in data loading, try setting `NUM_WORKERS = 0`"
   ]
  },
  {
   "cell_type": "code",
   "execution_count": 31,
   "metadata": {},
   "outputs": [],
   "source": [
    "BATCH_SIZE = 8\n",
    "NUM_WORKERS = 4\n",
    "\n",
    "# create the dataloader\n",
    "dataset = Simple2DDataset()\n",
    "train_dataloader = DataLoader(\n",
    "    dataset,\n",
    "    batch_size=BATCH_SIZE,\n",
    "    num_workers=0, #NUM_WORKERS,\n",
    "    shuffle=True\n",
    ")"
   ]
  },
  {
   "cell_type": "markdown",
   "metadata": {},
   "source": [
    "Now, define your first network by filling in the `LinearClassifier` class below.\n",
    "\n",
    "Add a single linear layer `nn.Linear` inside the `nn.Sequential` call. The input is 2D, and the output should be a single value, corresponding to the probability of a given 2D point being part of cluster 0."
   ]
  },
  {
   "cell_type": "code",
   "execution_count": 32,
   "metadata": {},
   "outputs": [],
   "source": [
    "class LinearClassifier(nn.Module):\n",
    "    def __init__(self):\n",
    "        super().__init__()\n",
    "\n",
    "        self.codename = 'linear'\n",
    "\n",
    "        #########################################################################\n",
    "        # TODO: add a single linear layer with nn.Linear, inside the `nn.Sequential` call.\n",
    "        # Input is 2D.\n",
    "        # Output is a single value.\n",
    "        #########################################################################\n",
    "        self.model = nn.Sequential(nn.Linear(2, 1))\n",
    "        \n",
    "    def forward(self, batch):\n",
    "        # Process batch using the defined model.\n",
    "        x = self.model(batch)\n",
    "        # Final sigmoid activation to obtain a probability between 0 and 1.\n",
    "        return torch.sigmoid(x)"
   ]
  },
  {
   "cell_type": "markdown",
   "metadata": {},
   "source": [
    "Now, you are asked to implement the training loop below"
   ]
  },
  {
   "cell_type": "code",
   "execution_count": 33,
   "metadata": {},
   "outputs": [],
   "source": [
    "def train(net, optimizer, dataloader, epoch):\n",
    "    net.train()\n",
    "    loss_sum = 0\n",
    "    for batch_idx, (point, label) in enumerate(dataloader):\n",
    "        # First we need to zero the gradient, otherwise PyTorch would accumulate them\n",
    "        optimizer.zero_grad()\n",
    "\n",
    "        #########################################################################\n",
    "        #TODO: \n",
    "        # 1. forward pass of the network to obtain the predictions given the batch\n",
    "        # 2. compute the loss using F.binary_cross_entropy\n",
    "        # 3. backward pass on the loss using loss.backward(), and one step \n",
    "        # of gradient descent (optimization) using optimizer.step()\n",
    "        #########################################################################\n",
    "\n",
    "        # 1. forward pass\n",
    "        predictions = net(point)\n",
    "        # 2. compute loss\n",
    "        loss = F.binary_cross_entropy(predictions, label)\n",
    "        # 3. backward pass\n",
    "        loss.backward()\n",
    "        # one step of gradient descent\n",
    "        optimizer.step()\n",
    "\n",
    "        loss_sum += loss.item()\n",
    "    return loss_sum\n",
    "        "
   ]
  },
  {
   "cell_type": "markdown",
   "metadata": {},
   "source": [
    "You can now run below to train the linear model."
   ]
  },
  {
   "cell_type": "code",
   "execution_count": 34,
   "metadata": {
    "scrolled": true,
    "tags": []
   },
   "outputs": [
    {
     "name": "stdout",
     "output_type": "stream",
     "text": [
      "[Epoch 01] Loss: 8.2421\n",
      "[Epoch 02] Loss: 6.8982\n",
      "[Epoch 03] Loss: 5.9866\n",
      "[Epoch 04] Loss: 5.3088\n",
      "[Epoch 05] Loss: 5.0097\n",
      "[Epoch 06] Loss: 4.6768\n",
      "[Epoch 07] Loss: 4.8007\n",
      "[Epoch 08] Loss: 4.5710\n",
      "[Epoch 09] Loss: 4.4393\n",
      "[Epoch 10] Loss: 4.2767\n",
      "[Epoch 11] Loss: 4.0357\n",
      "[Epoch 12] Loss: 4.0200\n",
      "[Epoch 13] Loss: 4.1190\n",
      "[Epoch 14] Loss: 3.8255\n",
      "[Epoch 15] Loss: 3.8297\n",
      "[Epoch 16] Loss: 4.0344\n",
      "[Epoch 17] Loss: 3.7646\n",
      "[Epoch 18] Loss: 3.7857\n",
      "[Epoch 19] Loss: 3.8648\n",
      "[Epoch 20] Loss: 3.6550\n",
      "[Epoch 21] Loss: 3.6182\n",
      "[Epoch 22] Loss: 3.7879\n",
      "[Epoch 23] Loss: 3.5858\n",
      "[Epoch 24] Loss: 3.7054\n",
      "[Epoch 25] Loss: 3.5642\n",
      "[Epoch 26] Loss: 3.5336\n",
      "[Epoch 27] Loss: 3.5439\n",
      "[Epoch 28] Loss: 3.9290\n",
      "[Epoch 29] Loss: 3.5407\n",
      "[Epoch 30] Loss: 3.6657\n",
      "[Epoch 31] Loss: 3.5505\n",
      "[Epoch 32] Loss: 3.5165\n",
      "[Epoch 33] Loss: 3.8410\n",
      "[Epoch 34] Loss: 3.6419\n",
      "[Epoch 35] Loss: 3.5512\n",
      "[Epoch 36] Loss: 3.7264\n",
      "[Epoch 37] Loss: 3.7022\n",
      "[Epoch 38] Loss: 3.5261\n",
      "[Epoch 39] Loss: 3.6935\n",
      "[Epoch 40] Loss: 3.5166\n",
      "[Epoch 41] Loss: 3.5151\n",
      "[Epoch 42] Loss: 3.7170\n",
      "[Epoch 43] Loss: 3.4839\n",
      "[Epoch 44] Loss: 3.5162\n",
      "[Epoch 45] Loss: 3.4646\n",
      "[Epoch 46] Loss: 3.5664\n",
      "[Epoch 47] Loss: 3.5367\n",
      "[Epoch 48] Loss: 3.4722\n",
      "[Epoch 49] Loss: 3.7014\n",
      "[Epoch 50] Loss: 3.4675\n",
      "[Epoch 51] Loss: 3.4636\n",
      "[Epoch 52] Loss: 3.5262\n",
      "[Epoch 53] Loss: 3.6994\n",
      "[Epoch 54] Loss: 3.4889\n",
      "[Epoch 55] Loss: 3.6695\n",
      "[Epoch 56] Loss: 3.5374\n",
      "[Epoch 57] Loss: 3.7262\n",
      "[Epoch 58] Loss: 3.6684\n",
      "[Epoch 59] Loss: 3.4814\n",
      "[Epoch 60] Loss: 3.6969\n",
      "[Epoch 61] Loss: 3.4797\n",
      "[Epoch 62] Loss: 3.4367\n",
      "[Epoch 63] Loss: 3.5646\n",
      "[Epoch 64] Loss: 3.4460\n",
      "[Epoch 65] Loss: 3.4774\n",
      "[Epoch 66] Loss: 3.4713\n",
      "[Epoch 67] Loss: 3.6467\n",
      "[Epoch 68] Loss: 3.4786\n",
      "[Epoch 69] Loss: 3.4616\n",
      "[Epoch 70] Loss: 3.6588\n",
      "[Epoch 71] Loss: 3.4485\n",
      "[Epoch 72] Loss: 3.5289\n",
      "[Epoch 73] Loss: 3.5450\n",
      "[Epoch 74] Loss: 3.5292\n",
      "[Epoch 75] Loss: 3.5109\n",
      "[Epoch 76] Loss: 3.4831\n",
      "[Epoch 77] Loss: 3.4379\n",
      "[Epoch 78] Loss: 3.4737\n",
      "[Epoch 79] Loss: 3.5023\n",
      "[Epoch 80] Loss: 3.8783\n",
      "[Epoch 81] Loss: 3.6747\n",
      "[Epoch 82] Loss: 3.4653\n",
      "[Epoch 83] Loss: 3.5000\n",
      "[Epoch 84] Loss: 3.5348\n",
      "[Epoch 85] Loss: 3.6647\n",
      "[Epoch 86] Loss: 3.7146\n",
      "[Epoch 87] Loss: 3.8132\n",
      "[Epoch 88] Loss: 3.5358\n",
      "[Epoch 89] Loss: 3.4235\n",
      "[Epoch 90] Loss: 3.4549\n",
      "[Epoch 91] Loss: 3.4482\n",
      "[Epoch 92] Loss: 3.4777\n",
      "[Epoch 93] Loss: 3.6154\n",
      "[Epoch 94] Loss: 3.4463\n",
      "[Epoch 95] Loss: 3.6562\n",
      "[Epoch 96] Loss: 3.6920\n",
      "[Epoch 97] Loss: 3.4381\n",
      "[Epoch 98] Loss: 3.6062\n",
      "[Epoch 99] Loss: 3.4750\n",
      "[Epoch 100] Loss: 3.5111\n"
     ]
    }
   ],
   "source": [
    "NUM_EPOCHS = 100\n",
    "# create the network.\n",
    "net = LinearClassifier()\n",
    "\n",
    "# create the optimizer.\n",
    "optimizer = Adam(net.parameters(), lr=0.1)\n",
    "\n",
    "best_accuracy = 0\n",
    "for epoch_idx in range(NUM_EPOCHS):\n",
    "    loss = train(net, optimizer, train_dataloader, epoch_idx)\n",
    "    print('[Epoch %02d] Loss: %.4f' % (epoch_idx + 1, loss))"
   ]
  },
  {
   "cell_type": "markdown",
   "metadata": {},
   "source": [
    "Now plot your result below.\n"
   ]
  },
  {
   "cell_type": "code",
   "execution_count": null,
   "metadata": {},
   "outputs": [],
   "source": []
  },
  {
   "cell_type": "code",
   "execution_count": 35,
   "metadata": {},
   "outputs": [
    {
     "data": {
      "image/png": "[encoded data removed]",
      "text/plain": [
       "<Figure size 640x480 with 1 Axes>"
      ]
     },
     "metadata": {},
     "output_type": "display_data"
    },
    {
     "data": {
      "text/plain": [
       "<Figure size 640x480 with 0 Axes>"
      ]
     },
     "metadata": {},
     "output_type": "display_data"
    }
   ],
   "source": [
    "p = np.linspace(-0.5, 0.5, 500)\n",
    "x_plot, y_plot = np.meshgrid(p, p)\n",
    "X_plot = np.stack((x_plot, y_plot), axis=2).reshape(-1, 2)\n",
    "X_plot = torch.from_numpy(X_plot).float()\n",
    "output = net(X_plot)\n",
    "output = output.detach().numpy()\n",
    "output = output.reshape(x_plot.shape[0], x_plot.shape[1])\n",
    "\n",
    "plt.contour(x_plot, y_plot, output, [0.5],\n",
    "                  colors=('k',),\n",
    "                  linewidths=(3,))\n",
    "plot(X0, X1)\n"
   ]
  },
  {
   "cell_type": "markdown",
   "metadata": {},
   "source": [
    "### Implement your first multi-layer perceptron (MLP) for point cloud classification\n",
    "Now you should notice that your logistic regression model cannot classify the point cloud correctly, and this is as expected :)  \n",
    "Therefore, we now ask you to implement an MLP for the same binary classification task."
   ]
  },
  {
   "cell_type": "code",
   "execution_count": 39,
   "metadata": {},
   "outputs": [],
   "source": [
    "# These are the parameters to be used\n",
    "nInput = 2\n",
    "nOutput = 1\n",
    "nHidden = 16\n",
    "act_fn = nn.ReLU()\n",
    "\n",
    "class MLP(nn.Module):\n",
    "    def __init__(self, nInput, nOutput, nHidden, act_fn):\n",
    "        super().__init__()\n",
    "\n",
    "        # Define the network layers in order.\n",
    "        # Input is 2D (nInput).\n",
    "        # Output is a single value (nOutput).\n",
    "        # Multiple linear layers each followed by a ReLU non-linearity (apart from the last).\n",
    "        #########################################################################\n",
    "        # TODO: add a two-layer MLP, inside the `nn.Sequential` call.\n",
    "        # Input is 2D.\n",
    "        # Output is a single value.\n",
    "\n",
    "        # Hint: unlike logistic regression where you need only one nn.Linear layer, \n",
    "        # here you will have two nn.Linear layers. After the first layer, we \n",
    "        # apply a ReLU activation function. The output is then passed to another \n",
    "        # linear layer. Note that you should use `nHidden` below as the hidden dimension \n",
    "        # of your linear layers.\n",
    "        #########################################################################\n",
    "        self.model = nn.Sequential(nn.Linear(nInput, nHidden), act_fn, nn.Linear(nHidden, nOutput))\n",
    "        \n",
    "    def forward(self, batch):\n",
    "        # Process batch using the defined model.\n",
    "        x = self.model(batch)\n",
    "        # Final sigmoid activation to obtain a probability.\n",
    "        return torch.sigmoid(x)\n"
   ]
  },
  {
   "cell_type": "markdown",
   "metadata": {},
   "source": [
    "Run below again!"
   ]
  },
  {
   "cell_type": "code",
   "execution_count": 40,
   "metadata": {},
   "outputs": [
    {
     "name": "stdout",
     "output_type": "stream",
     "text": [
      "[Epoch 01] Loss: 7.1380\n",
      "[Epoch 02] Loss: 4.3711\n",
      "[Epoch 03] Loss: 3.6744\n",
      "[Epoch 04] Loss: 3.9401\n",
      "[Epoch 05] Loss: 3.7204\n",
      "[Epoch 06] Loss: 5.7107\n",
      "[Epoch 07] Loss: 4.0086\n",
      "[Epoch 08] Loss: 3.5141\n",
      "[Epoch 09] Loss: 3.2577\n",
      "[Epoch 10] Loss: 3.1823\n",
      "[Epoch 11] Loss: 3.0965\n",
      "[Epoch 12] Loss: 3.1104\n",
      "[Epoch 13] Loss: 3.0218\n",
      "[Epoch 14] Loss: 2.9432\n",
      "[Epoch 15] Loss: 2.8561\n",
      "[Epoch 16] Loss: 2.7772\n",
      "[Epoch 17] Loss: 2.4039\n",
      "[Epoch 18] Loss: 2.2922\n",
      "[Epoch 19] Loss: 2.1030\n",
      "[Epoch 20] Loss: 1.6556\n",
      "[Epoch 21] Loss: 1.8848\n",
      "[Epoch 22] Loss: 1.6523\n",
      "[Epoch 23] Loss: 1.1470\n",
      "[Epoch 24] Loss: 0.8938\n",
      "[Epoch 25] Loss: 0.7647\n",
      "[Epoch 26] Loss: 0.7158\n",
      "[Epoch 27] Loss: 0.5519\n",
      "[Epoch 28] Loss: 0.4721\n",
      "[Epoch 29] Loss: 0.4840\n",
      "[Epoch 30] Loss: 0.3862\n",
      "[Epoch 31] Loss: 0.3022\n",
      "[Epoch 32] Loss: 0.2846\n",
      "[Epoch 33] Loss: 0.3459\n",
      "[Epoch 34] Loss: 0.2540\n",
      "[Epoch 35] Loss: 0.2469\n",
      "[Epoch 36] Loss: 0.2129\n",
      "[Epoch 37] Loss: 0.2447\n",
      "[Epoch 38] Loss: 0.2162\n",
      "[Epoch 39] Loss: 0.1601\n",
      "[Epoch 40] Loss: 0.1563\n",
      "[Epoch 41] Loss: 0.1469\n",
      "[Epoch 42] Loss: 0.1144\n",
      "[Epoch 43] Loss: 0.1239\n",
      "[Epoch 44] Loss: 0.1032\n",
      "[Epoch 45] Loss: 0.1280\n",
      "[Epoch 46] Loss: 0.1073\n",
      "[Epoch 47] Loss: 0.0967\n",
      "[Epoch 48] Loss: 0.0827\n",
      "[Epoch 49] Loss: 0.0848\n",
      "[Epoch 50] Loss: 0.0828\n",
      "[Epoch 51] Loss: 0.0999\n",
      "[Epoch 52] Loss: 0.0980\n",
      "[Epoch 53] Loss: 0.1346\n",
      "[Epoch 54] Loss: 0.2789\n",
      "[Epoch 55] Loss: 0.1578\n",
      "[Epoch 56] Loss: 0.1146\n",
      "[Epoch 57] Loss: 0.2510\n",
      "[Epoch 58] Loss: 0.1532\n",
      "[Epoch 59] Loss: 0.1364\n",
      "[Epoch 60] Loss: 0.1693\n",
      "[Epoch 61] Loss: 0.1319\n",
      "[Epoch 62] Loss: 0.3926\n",
      "[Epoch 63] Loss: 0.1413\n",
      "[Epoch 64] Loss: 0.3398\n",
      "[Epoch 65] Loss: 0.3185\n",
      "[Epoch 66] Loss: 0.1945\n",
      "[Epoch 67] Loss: 0.0976\n",
      "[Epoch 68] Loss: 0.0967\n",
      "[Epoch 69] Loss: 0.0528\n",
      "[Epoch 70] Loss: 0.0417\n",
      "[Epoch 71] Loss: 0.0343\n",
      "[Epoch 72] Loss: 0.0328\n",
      "[Epoch 73] Loss: 0.0311\n",
      "[Epoch 74] Loss: 0.0285\n",
      "[Epoch 75] Loss: 0.0270\n",
      "[Epoch 76] Loss: 0.0247\n",
      "[Epoch 77] Loss: 0.0351\n",
      "[Epoch 78] Loss: 0.0228\n",
      "[Epoch 79] Loss: 0.0226\n",
      "[Epoch 80] Loss: 0.0212\n",
      "[Epoch 81] Loss: 0.0227\n",
      "[Epoch 82] Loss: 0.0207\n",
      "[Epoch 83] Loss: 0.0196\n",
      "[Epoch 84] Loss: 0.0192\n",
      "[Epoch 85] Loss: 0.0187\n",
      "[Epoch 86] Loss: 0.0189\n",
      "[Epoch 87] Loss: 0.0183\n",
      "[Epoch 88] Loss: 0.0178\n",
      "[Epoch 89] Loss: 0.0179\n",
      "[Epoch 90] Loss: 0.0171\n",
      "[Epoch 91] Loss: 0.0174\n",
      "[Epoch 92] Loss: 0.0179\n",
      "[Epoch 93] Loss: 0.0162\n",
      "[Epoch 94] Loss: 0.0168\n",
      "[Epoch 95] Loss: 0.0151\n",
      "[Epoch 96] Loss: 0.0151\n",
      "[Epoch 97] Loss: 0.0154\n",
      "[Epoch 98] Loss: 0.0144\n",
      "[Epoch 99] Loss: 0.0145\n",
      "[Epoch 100] Loss: 0.0133\n",
      "[Epoch 101] Loss: 0.0126\n",
      "[Epoch 102] Loss: 0.0123\n",
      "[Epoch 103] Loss: 0.0119\n",
      "[Epoch 104] Loss: 0.0118\n",
      "[Epoch 105] Loss: 0.0124\n",
      "[Epoch 106] Loss: 0.0116\n",
      "[Epoch 107] Loss: 0.0113\n",
      "[Epoch 108] Loss: 0.0109\n",
      "[Epoch 109] Loss: 0.0109\n",
      "[Epoch 110] Loss: 0.0113\n",
      "[Epoch 111] Loss: 0.0100\n",
      "[Epoch 112] Loss: 0.0120\n",
      "[Epoch 113] Loss: 0.0095\n",
      "[Epoch 114] Loss: 0.0097\n",
      "[Epoch 115] Loss: 0.0101\n",
      "[Epoch 116] Loss: 0.0098\n",
      "[Epoch 117] Loss: 0.0090\n",
      "[Epoch 118] Loss: 0.0087\n",
      "[Epoch 119] Loss: 0.0088\n",
      "[Epoch 120] Loss: 0.0085\n",
      "[Epoch 121] Loss: 0.0084\n",
      "[Epoch 122] Loss: 0.0082\n",
      "[Epoch 123] Loss: 0.0082\n",
      "[Epoch 124] Loss: 0.0084\n",
      "[Epoch 125] Loss: 0.0084\n",
      "[Epoch 126] Loss: 0.0076\n",
      "[Epoch 127] Loss: 0.0078\n",
      "[Epoch 128] Loss: 0.0074\n",
      "[Epoch 129] Loss: 0.0074\n",
      "[Epoch 130] Loss: 0.0073\n",
      "[Epoch 131] Loss: 0.0073\n",
      "[Epoch 132] Loss: 0.0072\n",
      "[Epoch 133] Loss: 0.0070\n",
      "[Epoch 134] Loss: 0.0068\n",
      "[Epoch 135] Loss: 0.0067\n",
      "[Epoch 136] Loss: 0.0066\n",
      "[Epoch 137] Loss: 0.0065\n",
      "[Epoch 138] Loss: 0.0065\n",
      "[Epoch 139] Loss: 0.0077\n",
      "[Epoch 140] Loss: 0.0063\n",
      "[Epoch 141] Loss: 0.0065\n",
      "[Epoch 142] Loss: 0.0059\n",
      "[Epoch 143] Loss: 0.0059\n",
      "[Epoch 144] Loss: 0.0059\n",
      "[Epoch 145] Loss: 0.0058\n",
      "[Epoch 146] Loss: 0.0059\n",
      "[Epoch 147] Loss: 0.0056\n",
      "[Epoch 148] Loss: 0.0058\n",
      "[Epoch 149] Loss: 0.0059\n",
      "[Epoch 150] Loss: 0.0068\n",
      "[Epoch 151] Loss: 0.0056\n",
      "[Epoch 152] Loss: 0.0054\n",
      "[Epoch 153] Loss: 0.0052\n",
      "[Epoch 154] Loss: 0.0052\n",
      "[Epoch 155] Loss: 0.0053\n",
      "[Epoch 156] Loss: 0.0054\n",
      "[Epoch 157] Loss: 0.0050\n",
      "[Epoch 158] Loss: 0.0050\n",
      "[Epoch 159] Loss: 0.0049\n",
      "[Epoch 160] Loss: 0.0051\n",
      "[Epoch 161] Loss: 0.0049\n",
      "[Epoch 162] Loss: 0.0048\n",
      "[Epoch 163] Loss: 0.0050\n",
      "[Epoch 164] Loss: 0.0047\n",
      "[Epoch 165] Loss: 0.0045\n",
      "[Epoch 166] Loss: 0.0048\n",
      "[Epoch 167] Loss: 0.0045\n",
      "[Epoch 168] Loss: 0.0048\n",
      "[Epoch 169] Loss: 0.0048\n",
      "[Epoch 170] Loss: 0.0053\n",
      "[Epoch 171] Loss: 0.0051\n",
      "[Epoch 172] Loss: 0.0042\n",
      "[Epoch 173] Loss: 0.0043\n",
      "[Epoch 174] Loss: 0.0041\n",
      "[Epoch 175] Loss: 0.0041\n",
      "[Epoch 176] Loss: 0.0040\n",
      "[Epoch 177] Loss: 0.0039\n",
      "[Epoch 178] Loss: 0.0047\n",
      "[Epoch 179] Loss: 0.0040\n",
      "[Epoch 180] Loss: 0.0038\n",
      "[Epoch 181] Loss: 0.0038\n",
      "[Epoch 182] Loss: 0.0038\n",
      "[Epoch 183] Loss: 0.0039\n",
      "[Epoch 184] Loss: 0.0038\n",
      "[Epoch 185] Loss: 0.0036\n",
      "[Epoch 186] Loss: 0.0035\n",
      "[Epoch 187] Loss: 0.0036\n",
      "[Epoch 188] Loss: 0.0037\n",
      "[Epoch 189] Loss: 0.0034\n",
      "[Epoch 190] Loss: 0.0036\n",
      "[Epoch 191] Loss: 0.0037\n",
      "[Epoch 192] Loss: 0.0035\n",
      "[Epoch 193] Loss: 0.0034\n",
      "[Epoch 194] Loss: 0.0032\n",
      "[Epoch 195] Loss: 0.0033\n",
      "[Epoch 196] Loss: 0.0031\n",
      "[Epoch 197] Loss: 0.0034\n",
      "[Epoch 198] Loss: 0.0031\n",
      "[Epoch 199] Loss: 0.0032\n",
      "[Epoch 200] Loss: 0.0033\n"
     ]
    }
   ],
   "source": [
    "NUM_EPOCHS = 200\n",
    "\n",
    "# create the network.\n",
    "net = MLP(nInput, nOutput, nHidden, act_fn)\n",
    "\n",
    "# create the optimizer.\n",
    "optimizer = Adam(net.parameters(), lr=0.1)\n",
    "\n",
    "best_accuracy = 0\n",
    "for epoch_idx in range(NUM_EPOCHS):\n",
    "    loss = train(net, optimizer, train_dataloader, epoch_idx)\n",
    "    print('[Epoch %02d] Loss: %.4f' % (epoch_idx + 1, loss))"
   ]
  },
  {
   "cell_type": "markdown",
   "metadata": {},
   "source": [
    "Again plot your result. You should see that the decision boundary can clearly separate the point clouds.\n"
   ]
  },
  {
   "cell_type": "code",
   "execution_count": 41,
   "metadata": {},
   "outputs": [
    {
     "data": {
      "image/png": "[encoded data removed]",
      "text/plain": [
       "<Figure size 640x480 with 1 Axes>"
      ]
     },
     "metadata": {},
     "output_type": "display_data"
    },
    {
     "data": {
      "text/plain": [
       "<Figure size 640x480 with 0 Axes>"
      ]
     },
     "metadata": {},
     "output_type": "display_data"
    }
   ],
   "source": [
    "p = np.linspace(-0.5, 0.5, 500)\n",
    "x_plot, y_plot = np.meshgrid(p, p)\n",
    "X_plot = np.stack((x_plot, y_plot), axis=2).reshape(-1, 2)\n",
    "X_plot = torch.from_numpy(X_plot).float()\n",
    "output = net(X_plot)\n",
    "output = output.detach().numpy()\n",
    "output = output.reshape(x_plot.shape[0], x_plot.shape[1])\n",
    "\n",
    "plt.contour(x_plot, y_plot, output, [0.5],\n",
    "                  colors=('k',),\n",
    "                  linewidths=(3,))\n",
    "plot(X0, X1)"
   ]
  },
  {
   "cell_type": "markdown",
   "metadata": {},
   "source": [
    "When you are done, move forward to `image_classification.ipynb`."
   ]
  },
  {
   "cell_type": "markdown",
   "metadata": {},
   "source": []
  }
 ],
 "metadata": {
  "kernelspec": {
   "display_name": "Python 3.9.12 ('base')",
   "language": "python",
   "name": "python3"
  },
  "language_info": {
   "codemirror_mode": {
    "name": "ipython",
    "version": 3
   },
   "file_extension": ".py",
   "mimetype": "text/x-python",
   "name": "python",
   "nbconvert_exporter": "python",
   "pygments_lexer": "ipython3",
   "version": "3.9.18"
  },
  "vscode": {
   "interpreter": {
    "hash": "d268b61a0efacafa8645774cb6d0204c9f01d7563ef03f7672146d044e8f345c"
   }
  }
 },
 "nbformat": 4,
 "nbformat_minor": 4
}
